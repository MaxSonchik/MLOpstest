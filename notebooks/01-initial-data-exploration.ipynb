{
 "cells": [
  {
   "cell_type": "code",
   "execution_count": null,
   "id": "0986a2f6",
   "metadata": {
    "vscode": {
     "languageId": "plaintext"
    }
   },
   "outputs": [],
   "source": [
    "import pandas as pd\n",
    "\n",
    "# Загружаем данные\n",
    "# Обратите внимание на параметры: нет заголовка, имена колонок - числа, разделитель - запятая\n",
    "df = pd.read_csv('../data/raw/amazon_review_polarity_csv/train.csv', header=None, names=['sentiment', 'title', 'text'])\n",
    "\n",
    "# Смотрим первые 5 строк\n",
    "print(df.head())\n",
    "\n",
    "# Смотрим распределение классов (1 - негативный, 2 - позитивный)\n",
    "print(df['sentiment'].value_counts())\n",
    "\n",
    "# Проверяем на пропуски\n",
    "print(df.isnull().sum())"
   ]
  }
 ],
 "metadata": {
  "language_info": {
   "name": "python"
  }
 },
 "nbformat": 4,
 "nbformat_minor": 5
}
